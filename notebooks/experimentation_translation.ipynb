{
 "cells": [
  {
   "cell_type": "code",
   "id": "initial_id",
   "metadata": {
    "collapsed": true,
    "ExecuteTime": {
     "end_time": "2024-04-27T13:27:19.192927Z",
     "start_time": "2024-04-27T13:27:15.110399Z"
    }
   },
   "source": [
    "import logging\n",
    "from pyspark.sql import SparkSession, functions as F, DataFrame\n",
    "from pyspark.ml.fpm import FPGrowth\n",
    "\n",
    "from warp.spark.io_adapters.utils.enums import AdapterType\n",
    "from warp.core.io_adapters import get_adapter\n",
    "from warp.spark.io import cache\n",
    "\n",
    "\n",
    "def create_logger(name: str) -> logging.Logger:\n",
    "    \"\"\"creates a logger with specified name\"\"\"\n",
    "    logging.basicConfig(\n",
    "        level=logging.INFO,\n",
    "        format=\"[%(asctime)s] {%(name)s:%(filename)s:%(lineno)s}\"\n",
    "               \" %(levelname)s - %(message)s\",\n",
    "    )\n",
    "\n",
    "    return logging.getLogger(name)\n",
    "\n",
    "\n",
    "def cache_df(df: DataFrame) -> DataFrame:\n",
    "    return cache(\n",
    "        df, file_schema=\"file:/\", bucket_name=\"home/burhan/project_data\"\n",
    "    )\n",
    "\n",
    "\n",
    "logger = logging.getLogger('py4j')\n",
    "logger.setLevel(logging.ERROR)\n",
    "\n",
    "builder = (\n",
    "    SparkSession.builder\n",
    "    .master('local[*]')\n",
    "    .appName('term-project')\n",
    "    .config('spark.default.parallelism', 8)\n",
    "    .config('spark.sql.shuffle.partitions', 8)\n",
    "    .config('spark.port.maxRetries', 32)\n",
    "    .config('spark.sql.adaptive.enabled', False)\n",
    "    .config('spark.driver.memory', '4g')\n",
    "    .config('spark.executor.memory', '4g')\n",
    ")\n",
    "\n",
    "spark = builder.getOrCreate()\n",
    "parquet_io = get_adapter(AdapterType.PARQUET)(spark_session=spark)"
   ],
   "execution_count": 1,
   "outputs": []
  },
  {
   "metadata": {
    "ExecuteTime": {
     "end_time": "2024-04-27T13:29:11.101102Z",
     "start_time": "2024-04-27T13:29:11.095888Z"
    }
   },
   "cell_type": "code",
   "source": [
    "\"\"\"Store Translation ETL module.\"\"\"\n",
    "from pyspark.sql import functions as F\n",
    "\n",
    "from warp.core.logger import log_time\n",
    "\n",
    "from association import create_logger, delta_io\n",
    "from association.etl import (\n",
    "    get_arguments, STORE_PATH, STORE_TRANSLATIONS_PATH\n",
    ")\n",
    "from association.etl.utils import translate_from_uk_to_en\n",
    "\n",
    "LOG = create_logger(\"store_translation_bootstrap_etl\")\n",
    "\n",
    "\n",
    "@log_time()\n",
    "def etl(run_date: str) -> None:\n",
    "    \"\"\"etl code for store translation\"\"\"\n",
    "    LOG.info(f\"Running ETL for {run_date}.\")\n",
    "\n",
    "    store_df = parquet_io.read(path=STORE_PATH)\n",
    "\n",
    "    store_translation_df = store_df.select(\n",
    "        \"store_id\",\n",
    "        F.col(\"store_description\").alias(\"store_description_uk\"),\n",
    "        translate_from_uk_to_en(\"store_description\").alias(\"store_description_en\"),\n",
    "        \"segment\"\n",
    "    )\n",
    "\n",
    "    store_segment_df = store_df.select(\"segment\").distinct()\n",
    "    store_segment_df = store_segment_df.withColumn(\n",
    "        \"segment_en\", translate_from_uk_to_en(\"segment\")\n",
    "    )\n",
    "\n",
    "    store_translation_df = store_translation_df.join(\n",
    "        F.broadcast(store_segment_df), on=\"segment\", how=\"left\"\n",
    "    )\n",
    "\n",
    "    store_translation_df = store_translation_df.select(\n",
    "        \"store_id\",\n",
    "        \"store_description_uk\",\n",
    "        \"store_description_en\",\n",
    "        F.col(\"segment\").alias(\"segment_uk\"),\n",
    "        \"segment_en\"\n",
    "    )\n",
    "\n",
    "    parquet_io.write(\n",
    "        df=store_translation_df,\n",
    "        path=STORE_TRANSLATIONS_PATH,\n",
    "        mode=\"overwrite\"\n",
    "    )\n"
   ],
   "id": "e443064ba4ea1eea",
   "execution_count": 15,
   "outputs": []
  },
  {
   "metadata": {
    "ExecuteTime": {
     "end_time": "2024-04-27T13:29:11.836317Z",
     "start_time": "2024-04-27T13:29:11.832227Z"
    }
   },
   "cell_type": "code",
   "source": "STORE_PATH",
   "id": "8a67b0dcbcfdf852",
   "execution_count": 16,
   "outputs": []
  },
  {
   "metadata": {
    "ExecuteTime": {
     "end_time": "2024-04-27T13:29:12.095294Z",
     "start_time": "2024-04-27T13:29:12.091234Z"
    }
   },
   "cell_type": "code",
   "source": "STORE_TRANSLATIONS_PATH",
   "id": "44d766ee6137695e",
   "execution_count": 17,
   "outputs": []
  },
  {
   "metadata": {
    "ExecuteTime": {
     "end_time": "2024-04-27T14:20:11.062609Z",
     "start_time": "2024-04-27T14:19:19.654372Z"
    }
   },
   "cell_type": "code",
   "source": "etl(\"2024-01-01\")",
   "id": "e2cc67ea202685e2",
   "execution_count": 29,
   "outputs": []
  },
  {
   "metadata": {
    "ExecuteTime": {
     "end_time": "2024-04-27T13:30:45.811320Z",
     "start_time": "2024-04-27T13:30:45.720585Z"
    }
   },
   "cell_type": "code",
   "source": "df = parquet_io.read(\"/home/burhan/datastore/association/etl/store_translations_local\")",
   "id": "a3be3019d295f6",
   "execution_count": 20,
   "outputs": []
  },
  {
   "metadata": {
    "ExecuteTime": {
     "end_time": "2024-04-27T13:30:57.665173Z",
     "start_time": "2024-04-27T13:30:57.480835Z"
    }
   },
   "cell_type": "code",
   "source": "df.count()",
   "id": "70b02474e177b267",
   "execution_count": 22,
   "outputs": []
  },
  {
   "metadata": {
    "ExecuteTime": {
     "end_time": "2024-04-27T13:30:46.074448Z",
     "start_time": "2024-04-27T13:30:45.812727Z"
    }
   },
   "cell_type": "code",
   "source": "df.show()",
   "id": "5c82f7edd4a01cfc",
   "execution_count": 21,
   "outputs": []
  },
  {
   "metadata": {
    "ExecuteTime": {
     "end_time": "2024-04-27T14:27:51.206567Z",
     "start_time": "2024-04-27T14:27:51.035976Z"
    }
   },
   "cell_type": "code",
   "source": "df = parquet_io.read(\"/home/burhan/datastore/association/etl/products_local\")",
   "id": "127d2ecceecd00d8",
   "execution_count": 30,
   "outputs": []
  },
  {
   "metadata": {
    "ExecuteTime": {
     "end_time": "2024-04-27T14:44:19.019058Z",
     "start_time": "2024-04-27T14:44:18.682196Z"
    }
   },
   "cell_type": "code",
   "source": "df.limit(10).select(\"product_id\").orderBy(\"product_id\").withColumn(\"product_code\", F.col(\"product_id\").cast(\"string\")).select(\"product_code\").repartition(3).write.format(\"text\").option(\"delimiter\", \"|\").save(\"/home/burhan/datastore/association/etl/products_deneme_4\", mode=\"overwrite\")",
   "id": "db3b942120cd1b15",
   "execution_count": 32,
   "outputs": []
  },
  {
   "metadata": {
    "ExecuteTime": {
     "end_time": "2024-04-27T13:37:14.144066Z",
     "start_time": "2024-04-27T13:37:12.982725Z"
    }
   },
   "cell_type": "code",
   "source": "df.select(\"product_description\").repartition(1).write.format(\"text\").option(\"delimiter\", \"|\").save(\"/home/burhan/datastore/association/etl/products_deneme_2\", mode=\"overwrite\")",
   "id": "530663a0faab24c8",
   "execution_count": 27,
   "outputs": []
  },
  {
   "metadata": {
    "ExecuteTime": {
     "end_time": "2024-04-27T14:48:35.872908Z",
     "start_time": "2024-04-27T14:48:34.096409Z"
    }
   },
   "cell_type": "code",
   "source": "df.select(\"product_description\").distinct().repartition(3).write.format(\"text\").option(\"delimiter\", \"|\").save(\"/home/burhan/datastore/association/etl/products_deneme_5\", mode=\"overwrite\")",
   "id": "8fecde104795adf9",
   "execution_count": 35,
   "outputs": []
  },
  {
   "metadata": {
    "ExecuteTime": {
     "end_time": "2024-04-27T13:41:46.120428Z",
     "start_time": "2024-04-27T13:41:45.721915Z"
    }
   },
   "cell_type": "code",
   "source": "df.select(\"product_description\").limit(1000).repartition(1).write.format(\"text\").option(\"delimiter\", \"|\").save(\"/home/burhan/datastore/association/etl/products_deneme_3\", mode=\"overwrite\")",
   "id": "d3a02284e210d936",
   "execution_count": 28,
   "outputs": []
  },
  {
   "metadata": {
    "ExecuteTime": {
     "end_time": "2024-04-21T21:36:05.662961Z",
     "start_time": "2024-04-21T21:36:05.598619Z"
    }
   },
   "cell_type": "code",
   "source": [
    "df = df.where(F.col(\"product_id\") != F.lit(890999))\n",
    "df = df.where(F.col(\"product_id\") != F.lit(888376))\n",
    "df = df.groupby(\"sales_id\").agg(F.collect_set(F.col(\"product_id\")).alias(\"basket\"))"
   ],
   "id": "8669d1a9dc4c4318",
   "execution_count": 5,
   "outputs": []
  },
  {
   "metadata": {
    "ExecuteTime": {
     "end_time": "2024-04-21T21:37:28.666235Z",
     "start_time": "2024-04-21T21:36:05.664595Z"
    }
   },
   "cell_type": "code",
   "source": "df = cache_df(df)",
   "id": "799b77300de3e453",
   "execution_count": 6,
   "outputs": []
  },
  {
   "metadata": {
    "ExecuteTime": {
     "end_time": "2024-04-21T21:24:39.230036Z",
     "start_time": "2024-04-21T21:24:39.167516Z"
    }
   },
   "cell_type": "code",
   "source": "df.show()",
   "id": "8adcbf0b7b8d0612",
   "execution_count": 34,
   "outputs": []
  },
  {
   "metadata": {
    "ExecuteTime": {
     "end_time": "2024-04-21T21:38:10.900268Z",
     "start_time": "2024-04-21T21:37:28.668802Z"
    }
   },
   "cell_type": "code",
   "source": [
    "fp = FPGrowth(minSupport=0.001, minConfidence=0.001, itemsCol='basket', predictionCol='prediction')\n",
    "model = fp.fit(df)"
   ],
   "id": "422363c97144a1fd",
   "execution_count": 7,
   "outputs": []
  },
  {
   "metadata": {
    "ExecuteTime": {
     "end_time": "2024-04-21T21:33:04.449415Z",
     "start_time": "2024-04-21T21:33:04.448953Z"
    }
   },
   "cell_type": "code",
   "source": "model.freqItemsets.show(20, False)",
   "id": "1640006325095040",
   "execution_count": null,
   "outputs": []
  },
  {
   "metadata": {},
   "cell_type": "code",
   "source": "model.freqItemsets.count()",
   "id": "f8cf6653338ba34a",
   "execution_count": null,
   "outputs": []
  },
  {
   "metadata": {
    "ExecuteTime": {
     "end_time": "2024-04-21T21:33:04.431058Z",
     "start_time": "2024-04-21T21:28:13.585685Z"
    }
   },
   "cell_type": "code",
   "source": "model.associationRules.show(20, False)",
   "id": "f13b1477f4e8110f",
   "execution_count": 37,
   "outputs": []
  },
  {
   "metadata": {
    "ExecuteTime": {
     "end_time": "2024-04-21T21:33:04.447452Z",
     "start_time": "2024-04-21T21:33:04.433303Z"
    }
   },
   "cell_type": "code",
   "source": "model.associationRules.count()",
   "id": "4ca4612902129a6a",
   "execution_count": null,
   "outputs": []
  },
  {
   "metadata": {
    "ExecuteTime": {
     "end_time": "2024-04-21T22:00:49.038778Z",
     "start_time": "2024-04-21T21:38:10.901968Z"
    }
   },
   "cell_type": "code",
   "source": "cache_df(model.associationRules)",
   "id": "4455f8b7d8cc70f3",
   "execution_count": 8,
   "outputs": []
  },
  {
   "metadata": {},
   "cell_type": "code",
   "source": "cache_df(model.freqItemsets)",
   "id": "1984320eac120a05",
   "execution_count": null,
   "outputs": []
  },
  {
   "metadata": {
    "ExecuteTime": {
     "end_time": "2024-04-19T14:39:19.963170Z",
     "start_time": "2024-04-19T14:39:19.765250Z"
    }
   },
   "cell_type": "code",
   "source": "model.associationRules.orderBy(\"lift\").show(211, False)",
   "id": "7c4c7ca2a189f568",
   "execution_count": 18,
   "outputs": []
  },
  {
   "metadata": {
    "ExecuteTime": {
     "end_time": "2024-04-21T21:20:17.666018Z",
     "start_time": "2024-04-21T21:20:17.622524Z"
    }
   },
   "cell_type": "code",
   "source": "spark.conf.get(\"spark.serializer\")",
   "id": "d78f6ca045d125f5",
   "execution_count": 28,
   "outputs": []
  },
  {
   "metadata": {},
   "cell_type": "code",
   "execution_count": null,
   "source": "",
   "id": "f68da7f01abd8f62",
   "outputs": []
  }
 ],
 "metadata": {
  "kernelspec": {
   "display_name": "Python 3",
   "language": "python",
   "name": "python3"
  },
  "language_info": {
   "codemirror_mode": {
    "name": "ipython",
    "version": 2
   },
   "file_extension": ".py",
   "mimetype": "text/x-python",
   "name": "python",
   "nbconvert_exporter": "python",
   "pygments_lexer": "ipython2",
   "version": "2.7.6"
  }
 },
 "nbformat": 4,
 "nbformat_minor": 5
}
