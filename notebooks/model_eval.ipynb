{
 "cells": [
  {
   "cell_type": "code",
   "id": "initial_id",
   "metadata": {
    "collapsed": true,
    "ExecuteTime": {
     "end_time": "2024-05-16T13:32:41.771359Z",
     "start_time": "2024-05-16T13:32:41.768266Z"
    }
   },
   "source": [
    "from association import spark\n",
    "from pyspark.sql import functions as F"
   ],
   "execution_count": 10,
   "outputs": []
  },
  {
   "metadata": {
    "ExecuteTime": {
     "end_time": "2024-05-16T13:27:34.107103Z",
     "start_time": "2024-05-16T13:27:33.392476Z"
    }
   },
   "cell_type": "code",
   "source": "df = spark.read.parquet(\"/home/burhan/datastore/association/model/rules\")",
   "id": "78f93f055e559900",
   "execution_count": 6,
   "outputs": []
  },
  {
   "metadata": {
    "ExecuteTime": {
     "end_time": "2024-05-16T13:27:34.791926Z",
     "start_time": "2024-05-16T13:27:34.109254Z"
    }
   },
   "cell_type": "code",
   "source": "df.count()",
   "id": "cab424bd460aa49d",
   "execution_count": 7,
   "outputs": []
  },
  {
   "metadata": {
    "ExecuteTime": {
     "end_time": "2024-05-16T13:27:34.942710Z",
     "start_time": "2024-05-16T13:27:34.794541Z"
    }
   },
   "cell_type": "code",
   "source": "df.show()",
   "id": "8349e1e5b3709d70",
   "execution_count": 8,
   "outputs": []
  },
  {
   "metadata": {
    "ExecuteTime": {
     "end_time": "2024-05-16T13:32:55.243717Z",
     "start_time": "2024-05-16T13:32:54.175308Z"
    }
   },
   "cell_type": "code",
   "source": "df.groupBy(\"store_id\").agg(F.count(\"*\").alias(\"count\")).orderBy(F.desc(\"count\")).show()",
   "id": "eb2aa9ed2b4486d4",
   "execution_count": 11,
   "outputs": []
  },
  {
   "metadata": {
    "ExecuteTime": {
     "end_time": "2024-05-16T13:36:05.995313Z",
     "start_time": "2024-05-16T13:36:04.784354Z"
    }
   },
   "cell_type": "code",
   "source": "df = spark.read.parquet(\"/home/burhan/datastore/association/model/item_sets\")",
   "id": "966f74eb99dedfb5",
   "execution_count": 12,
   "outputs": []
  },
  {
   "metadata": {
    "ExecuteTime": {
     "end_time": "2024-05-16T13:36:10.441266Z",
     "start_time": "2024-05-16T13:36:10.133556Z"
    }
   },
   "cell_type": "code",
   "source": "df.count()",
   "id": "596b7966efef022",
   "execution_count": 14,
   "outputs": []
  },
  {
   "metadata": {
    "ExecuteTime": {
     "end_time": "2024-05-16T13:36:24.494476Z",
     "start_time": "2024-05-16T13:36:24.046210Z"
    }
   },
   "cell_type": "code",
   "source": "df.groupBy(\"store_id\").agg(F.count(\"*\").alias(\"count\")).orderBy(F.desc(\"count\")).show()",
   "id": "b9052efe62a78803",
   "execution_count": 15,
   "outputs": []
  },
  {
   "metadata": {},
   "cell_type": "code",
   "execution_count": null,
   "source": "",
   "id": "57c13000cc3179fe",
   "outputs": []
  }
 ],
 "metadata": {
  "kernelspec": {
   "display_name": "Python 3",
   "language": "python",
   "name": "python3"
  },
  "language_info": {
   "codemirror_mode": {
    "name": "ipython",
    "version": 2
   },
   "file_extension": ".py",
   "mimetype": "text/x-python",
   "name": "python",
   "nbconvert_exporter": "python",
   "pygments_lexer": "ipython2",
   "version": "2.7.6"
  }
 },
 "nbformat": 4,
 "nbformat_minor": 5
}
