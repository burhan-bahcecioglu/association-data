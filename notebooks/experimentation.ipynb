{
 "cells": [
  {
   "cell_type": "code",
   "id": "initial_id",
   "metadata": {
    "collapsed": true,
    "ExecuteTime": {
     "end_time": "2024-04-18T18:21:27.629764Z",
     "start_time": "2024-04-18T18:21:27.517591Z"
    }
   },
   "source": [
    "import logging\n",
    "from pyspark.sql import SparkSession, functions as F, DataFrame\n",
    "from pyspark.ml.fpm import FPGrowth\n",
    "\n",
    "from warp.spark.io_adapters.utils.enums import AdapterType\n",
    "from warp.core.io_adapters import get_adapter\n",
    "from warp.spark.io import cache\n",
    "\n",
    "\n",
    "def create_logger(name: str) -> logging.Logger:\n",
    "    \"\"\"creates a logger with specified name\"\"\"\n",
    "    logging.basicConfig(\n",
    "        level=logging.INFO,\n",
    "        format=\"[%(asctime)s] {%(name)s:%(filename)s:%(lineno)s}\"\n",
    "               \" %(levelname)s - %(message)s\",\n",
    "    )\n",
    "\n",
    "    return logging.getLogger(name)\n",
    "\n",
    "\n",
    "def cache_df(df: DataFrame) -> DataFrame:\n",
    "    return cache(\n",
    "        df, file_schema=\"file:/\", bucket_name=\"home/burhan/project_data\"\n",
    "    )\n",
    "\n",
    "\n",
    "logger = logging.getLogger('py4j')\n",
    "logger.setLevel(logging.ERROR)\n",
    "\n",
    "builder = (\n",
    "    SparkSession.builder\n",
    "    .master('local[*]')\n",
    "    .appName('term-project')\n",
    "    .config('spark.default.parallelism', 8)\n",
    "    .config('spark.sql.shuffle.partitions', 8)\n",
    "    .config('spark.port.maxRetries', 32)\n",
    "    .config('spark.sql.adaptive.enabled', False)\n",
    "    .config('spark.driver.memory', '4g')\n",
    "    .config('spark.executor.memory', '4g')\n",
    ")\n",
    "\n",
    "spark = builder.getOrCreate()\n",
    "parquet_io = get_adapter(AdapterType.PARQUET)(spark_session=spark)"
   ],
   "execution_count": 17,
   "outputs": []
  },
  {
   "metadata": {
    "ExecuteTime": {
     "end_time": "2024-04-18T18:27:22.906863Z",
     "start_time": "2024-04-18T18:27:22.902850Z"
    }
   },
   "cell_type": "code",
   "source": "path = \"/home/burhan/project_data/analysis_data\"",
   "id": "e443064ba4ea1eea",
   "execution_count": 22,
   "outputs": []
  },
  {
   "metadata": {
    "ExecuteTime": {
     "end_time": "2024-04-18T18:27:23.311505Z",
     "start_time": "2024-04-18T18:27:23.235618Z"
    }
   },
   "cell_type": "code",
   "source": "df = spark.read.parquet(path)",
   "id": "8a67b0dcbcfdf852",
   "execution_count": 23,
   "outputs": []
  },
  {
   "metadata": {
    "ExecuteTime": {
     "end_time": "2024-04-18T17:57:22.936652Z",
     "start_time": "2024-04-18T17:55:02.810426Z"
    }
   },
   "cell_type": "code",
   "source": [
    "df.agg(\n",
    "    F.countDistinct(\"date\").alias(\"date_count\"), \n",
    "    F.countDistinct(\"sales_id\").alias(\"basket_count\"), \n",
    "    F.count(\"transaction_id\").alias(\"transaction_count\")\n",
    ").withColumn(\n",
    "    \"transaction_per_basket\", \n",
    "    F.col(\"transaction_count\") / F.col(\"basket_count\")\n",
    ").show()"
   ],
   "id": "127d2ecceecd00d8",
   "execution_count": 6,
   "outputs": []
  },
  {
   "metadata": {
    "ExecuteTime": {
     "end_time": "2024-04-18T18:27:30.445063Z",
     "start_time": "2024-04-18T18:27:30.388993Z"
    }
   },
   "cell_type": "code",
   "source": "df = df.groupby(\"sales_id\").agg(F.collect_set(F.col(\"product_id\")).alias(\"basket\"))",
   "id": "8669d1a9dc4c4318",
   "execution_count": 24,
   "outputs": []
  },
  {
   "metadata": {
    "ExecuteTime": {
     "end_time": "2024-04-18T18:34:58.949970Z",
     "start_time": "2024-04-18T18:28:31.454054Z"
    }
   },
   "cell_type": "code",
   "source": "df = cache_df(df)",
   "id": "799b77300de3e453",
   "execution_count": 26,
   "outputs": []
  },
  {
   "metadata": {
    "ExecuteTime": {
     "end_time": "2024-04-18T18:34:59.099967Z",
     "start_time": "2024-04-18T18:34:58.952950Z"
    }
   },
   "cell_type": "code",
   "source": "df.show()",
   "id": "8adcbf0b7b8d0612",
   "execution_count": 27,
   "outputs": []
  },
  {
   "metadata": {
    "ExecuteTime": {
     "end_time": "2024-04-18T18:45:00.776429Z",
     "start_time": "2024-04-18T18:43:00.753831Z"
    }
   },
   "cell_type": "code",
   "source": [
    "fp = FPGrowth(minSupport=0.01, minConfidence=0.01, itemsCol='basket', predictionCol='prediction')\n",
    "model = fp.fit(df)"
   ],
   "id": "422363c97144a1fd",
   "execution_count": 32,
   "outputs": []
  },
  {
   "metadata": {
    "ExecuteTime": {
     "end_time": "2024-04-18T18:47:46.943568Z",
     "start_time": "2024-04-18T18:45:00.778021Z"
    }
   },
   "cell_type": "code",
   "source": "model.freqItemsets.show(10, False)",
   "id": "1640006325095040",
   "execution_count": 33,
   "outputs": []
  },
  {
   "metadata": {
    "ExecuteTime": {
     "end_time": "2024-04-18T18:49:26.117757Z",
     "start_time": "2024-04-18T18:47:46.944483Z"
    }
   },
   "cell_type": "code",
   "source": "model.associationRules.show(20, False)",
   "id": "f13b1477f4e8110f",
   "execution_count": 34,
   "outputs": []
  },
  {
   "metadata": {},
   "cell_type": "code",
   "execution_count": null,
   "source": "",
   "id": "4ca4612902129a6a",
   "outputs": []
  }
 ],
 "metadata": {
  "kernelspec": {
   "display_name": "Python 3",
   "language": "python",
   "name": "python3"
  },
  "language_info": {
   "codemirror_mode": {
    "name": "ipython",
    "version": 2
   },
   "file_extension": ".py",
   "mimetype": "text/x-python",
   "name": "python",
   "nbconvert_exporter": "python",
   "pygments_lexer": "ipython2",
   "version": "2.7.6"
  }
 },
 "nbformat": 4,
 "nbformat_minor": 5
}
