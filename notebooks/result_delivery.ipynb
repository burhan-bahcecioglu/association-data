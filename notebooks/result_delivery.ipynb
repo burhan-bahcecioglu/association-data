{
 "cells": [
  {
   "cell_type": "code",
   "id": "initial_id",
   "metadata": {
    "collapsed": true,
    "ExecuteTime": {
     "end_time": "2024-05-11T17:27:05.445771Z",
     "start_time": "2024-05-11T17:27:01.850865Z"
    }
   },
   "source": [
    "import logging\n",
    "from pyspark.sql import SparkSession, functions as F, DataFrame\n",
    "from pyspark.ml.fpm import FPGrowth\n",
    "\n",
    "from warp.spark.io_adapters.utils.enums import AdapterType\n",
    "from warp.core.io_adapters import get_adapter\n",
    "from warp.spark.io import cache\n",
    "\n",
    "\n",
    "def create_logger(name: str) -> logging.Logger:\n",
    "    \"\"\"creates a logger with specified name\"\"\"\n",
    "    logging.basicConfig(\n",
    "        level=logging.INFO,\n",
    "        format=\"[%(asctime)s] {%(name)s:%(filename)s:%(lineno)s}\"\n",
    "               \" %(levelname)s - %(message)s\",\n",
    "    )\n",
    "\n",
    "    return logging.getLogger(name)\n",
    "\n",
    "\n",
    "def cache_df(df: DataFrame) -> DataFrame:\n",
    "    return cache(\n",
    "        df, file_schema=\"file:/\", bucket_name=\"home/burhan/project_data\"\n",
    "    )\n",
    "\n",
    "\n",
    "logger = logging.getLogger('py4j')\n",
    "logger.setLevel(logging.ERROR)\n",
    "\n",
    "builder = (\n",
    "    SparkSession.builder\n",
    "    .master('local[*]')\n",
    "    .appName('term-project')\n",
    "    .config('spark.default.parallelism', 8)\n",
    "    .config('spark.sql.shuffle.partitions', 8)\n",
    "    .config('spark.port.maxRetries', 32)\n",
    "    .config('spark.sql.adaptive.enabled', False)\n",
    "    .config('spark.driver.memory', '4g')\n",
    "    .config('spark.executor.memory', '4g')\n",
    ")\n",
    "\n",
    "spark = builder.getOrCreate()\n",
    "parquet_io = get_adapter(AdapterType.PARQUET)(spark_session=spark)"
   ],
   "execution_count": 1,
   "outputs": []
  },
  {
   "metadata": {
    "ExecuteTime": {
     "end_time": "2024-05-11T17:27:05.449287Z",
     "start_time": "2024-05-11T17:27:05.447191Z"
    }
   },
   "cell_type": "code",
   "source": [
    "rules_path = \"/home/burhan/datastore/cache/a2507f68-3b46-4aea-a7ab-7c48c0ecce7d\"\n",
    "item_sets_path = \"/home/burhan/datastore/cache/5b24b539-5ed5-4518-a857-e92711000df6\""
   ],
   "id": "f68da7f01abd8f62",
   "execution_count": 2,
   "outputs": []
  },
  {
   "metadata": {
    "ExecuteTime": {
     "end_time": "2024-05-11T17:27:08.278480Z",
     "start_time": "2024-05-11T17:27:05.450323Z"
    }
   },
   "cell_type": "code",
   "source": "rules_df = parquet_io.read(rules_path)",
   "id": "cec1b0d424aff2c4",
   "execution_count": 3,
   "outputs": []
  },
  {
   "metadata": {
    "ExecuteTime": {
     "end_time": "2024-05-11T17:27:08.439954Z",
     "start_time": "2024-05-11T17:27:08.279645Z"
    }
   },
   "cell_type": "code",
   "source": "item_sets_df = parquet_io.read(item_sets_path)",
   "id": "5b52a7bac60f052b",
   "execution_count": 4,
   "outputs": []
  },
  {
   "metadata": {
    "ExecuteTime": {
     "end_time": "2024-05-09T17:18:09.115886Z",
     "start_time": "2024-05-09T17:18:08.111500Z"
    }
   },
   "cell_type": "code",
   "source": "rules_df.show()",
   "id": "22e1ab1c4006c825",
   "execution_count": 6,
   "outputs": []
  },
  {
   "metadata": {
    "ExecuteTime": {
     "end_time": "2024-05-09T17:18:11.327571Z",
     "start_time": "2024-05-09T17:18:11.227436Z"
    }
   },
   "cell_type": "code",
   "source": "item_sets_df.show()",
   "id": "7b3fd422cceec001",
   "execution_count": 7,
   "outputs": []
  },
  {
   "metadata": {
    "ExecuteTime": {
     "end_time": "2024-05-11T17:27:10.785217Z",
     "start_time": "2024-05-11T17:27:10.777641Z"
    }
   },
   "cell_type": "code",
   "source": "rules_df.schema",
   "id": "eae29d00a5a964a3",
   "execution_count": 5,
   "outputs": []
  },
  {
   "metadata": {
    "ExecuteTime": {
     "end_time": "2024-05-11T17:27:16.710378Z",
     "start_time": "2024-05-11T17:27:16.706205Z"
    }
   },
   "cell_type": "code",
   "source": "item_sets_df.schema",
   "id": "fac6560cbf17529e",
   "execution_count": 6,
   "outputs": []
  },
  {
   "metadata": {},
   "cell_type": "code",
   "execution_count": null,
   "source": "",
   "id": "786a650625aefe0a",
   "outputs": []
  }
 ],
 "metadata": {
  "kernelspec": {
   "display_name": "Python 3",
   "language": "python",
   "name": "python3"
  },
  "language_info": {
   "codemirror_mode": {
    "name": "ipython",
    "version": 2
   },
   "file_extension": ".py",
   "mimetype": "text/x-python",
   "name": "python",
   "nbconvert_exporter": "python",
   "pygments_lexer": "ipython2",
   "version": "2.7.6"
  }
 },
 "nbformat": 4,
 "nbformat_minor": 5
}
