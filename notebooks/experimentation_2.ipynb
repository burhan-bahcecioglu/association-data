{
 "cells": [
  {
   "cell_type": "code",
   "id": "initial_id",
   "metadata": {
    "collapsed": true,
    "ExecuteTime": {
     "end_time": "2024-04-26T11:52:41.444945Z",
     "start_time": "2024-04-26T11:52:41.318540Z"
    }
   },
   "source": [
    "import logging\n",
    "from pyspark.sql import SparkSession, functions as F, DataFrame\n",
    "from pyspark.ml.fpm import FPGrowth\n",
    "\n",
    "from warp.spark.io_adapters.utils.enums import AdapterType\n",
    "from warp.core.io_adapters import get_adapter\n",
    "from warp.spark.io import cache\n",
    "\n",
    "\n",
    "def create_logger(name: str) -> logging.Logger:\n",
    "    \"\"\"creates a logger with specified name\"\"\"\n",
    "    logging.basicConfig(\n",
    "        level=logging.INFO,\n",
    "        format=\"[%(asctime)s] {%(name)s:%(filename)s:%(lineno)s}\"\n",
    "               \" %(levelname)s - %(message)s\",\n",
    "    )\n",
    "\n",
    "    return logging.getLogger(name)\n",
    "\n",
    "\n",
    "def cache_df(df: DataFrame) -> DataFrame:\n",
    "    return cache(\n",
    "        df, file_schema=\"file:/\", bucket_name=\"home/burhan/project_data\"\n",
    "    )\n",
    "\n",
    "\n",
    "logger = logging.getLogger('py4j')\n",
    "logger.setLevel(logging.ERROR)\n",
    "\n",
    "builder = (\n",
    "    SparkSession.builder\n",
    "    .master('local[*]')\n",
    "    .appName('term-project')\n",
    "    .config('spark.default.parallelism', 8)\n",
    "    .config('spark.sql.shuffle.partitions', 8)\n",
    "    .config('spark.port.maxRetries', 32)\n",
    "    .config('spark.sql.adaptive.enabled', False)\n",
    "    .config('spark.driver.memory', '4g')\n",
    "    .config('spark.executor.memory', '4g')\n",
    ")\n",
    "\n",
    "spark = builder.getOrCreate()\n",
    "parquet_io = get_adapter(AdapterType.PARQUET)(spark_session=spark)"
   ],
   "execution_count": 7,
   "outputs": []
  },
  {
   "metadata": {
    "ExecuteTime": {
     "end_time": "2024-04-26T11:58:42.822084Z",
     "start_time": "2024-04-26T11:58:38.619753Z"
    }
   },
   "cell_type": "code",
   "source": "df = parquet_io.read('/home/burhan/datastore/association/etl/products_local')",
   "id": "75f1d0546ab9ab8",
   "execution_count": 12,
   "outputs": []
  },
  {
   "metadata": {
    "ExecuteTime": {
     "end_time": "2024-04-26T11:58:45.003757Z",
     "start_time": "2024-04-26T11:58:42.825427Z"
    }
   },
   "cell_type": "code",
   "source": "df.count()",
   "id": "628142dc9f77e707",
   "execution_count": 13,
   "outputs": []
  },
  {
   "metadata": {
    "ExecuteTime": {
     "end_time": "2024-04-26T11:52:43.643967Z",
     "start_time": "2024-04-26T11:52:43.638528Z"
    }
   },
   "cell_type": "code",
   "source": "path = \"/home/burhan/datastore/association/etl/transactional_sales_local\"",
   "id": "e443064ba4ea1eea",
   "execution_count": 8,
   "outputs": []
  },
  {
   "metadata": {
    "ExecuteTime": {
     "end_time": "2024-04-21T18:55:46.914248Z",
     "start_time": "2024-04-21T18:55:44.601060Z"
    }
   },
   "cell_type": "code",
   "source": "df.agg(F.max(\"date\")).show()",
   "id": "33e6f0b082a50b76",
   "execution_count": 4,
   "outputs": []
  },
  {
   "metadata": {
    "ExecuteTime": {
     "end_time": "2024-04-21T19:36:30.917635Z",
     "start_time": "2024-04-21T19:36:28.044457Z"
    }
   },
   "cell_type": "code",
   "source": "df.groupby(\"sales_type\").agg(F.count(\"*\")).distinct().show()",
   "id": "e2cc67ea202685e2",
   "execution_count": 9,
   "outputs": []
  },
  {
   "metadata": {
    "ExecuteTime": {
     "end_time": "2024-04-21T21:11:05.610576Z",
     "start_time": "2024-04-21T21:11:05.376127Z"
    }
   },
   "cell_type": "code",
   "source": "df.show()",
   "id": "a3be3019d295f6",
   "execution_count": 12,
   "outputs": []
  },
  {
   "metadata": {
    "ExecuteTime": {
     "end_time": "2024-04-21T21:36:05.597382Z",
     "start_time": "2024-04-21T21:34:56.188514Z"
    }
   },
   "cell_type": "code",
   "source": [
    "df.agg(\n",
    "    F.countDistinct(\"date\").alias(\"date_count\"), \n",
    "    F.countDistinct(\"sales_id\").alias(\"basket_count\"), \n",
    "    F.count(\"transaction_id\").alias(\"transaction_count\")\n",
    ").withColumn(\n",
    "    \"transaction_per_basket\", \n",
    "    F.col(\"transaction_count\") / F.col(\"basket_count\")\n",
    ").show()"
   ],
   "id": "127d2ecceecd00d8",
   "execution_count": 4,
   "outputs": []
  },
  {
   "metadata": {
    "ExecuteTime": {
     "end_time": "2024-04-21T21:36:05.662961Z",
     "start_time": "2024-04-21T21:36:05.598619Z"
    }
   },
   "cell_type": "code",
   "source": [
    "df = df.where(F.col(\"product_id\") != F.lit(890999))\n",
    "df = df.where(F.col(\"product_id\") != F.lit(888376))\n",
    "df = df.groupby(\"sales_id\").agg(F.collect_set(F.col(\"product_id\")).alias(\"basket\"))"
   ],
   "id": "8669d1a9dc4c4318",
   "execution_count": 5,
   "outputs": []
  },
  {
   "metadata": {
    "ExecuteTime": {
     "end_time": "2024-04-21T21:37:28.666235Z",
     "start_time": "2024-04-21T21:36:05.664595Z"
    }
   },
   "cell_type": "code",
   "source": "df = cache_df(df)",
   "id": "799b77300de3e453",
   "execution_count": 6,
   "outputs": []
  },
  {
   "metadata": {
    "ExecuteTime": {
     "end_time": "2024-04-21T21:24:39.230036Z",
     "start_time": "2024-04-21T21:24:39.167516Z"
    }
   },
   "cell_type": "code",
   "source": "df.show()",
   "id": "8adcbf0b7b8d0612",
   "execution_count": 34,
   "outputs": []
  },
  {
   "metadata": {
    "ExecuteTime": {
     "end_time": "2024-04-21T21:38:10.900268Z",
     "start_time": "2024-04-21T21:37:28.668802Z"
    }
   },
   "cell_type": "code",
   "source": [
    "fp = FPGrowth(minSupport=0.001, minConfidence=0.001, itemsCol='basket', predictionCol='prediction')\n",
    "model = fp.fit(df)"
   ],
   "id": "422363c97144a1fd",
   "execution_count": 7,
   "outputs": []
  },
  {
   "metadata": {
    "ExecuteTime": {
     "end_time": "2024-04-21T21:33:04.449415Z",
     "start_time": "2024-04-21T21:33:04.448953Z"
    }
   },
   "cell_type": "code",
   "source": "model.freqItemsets.show(20, False)",
   "id": "1640006325095040",
   "execution_count": null,
   "outputs": []
  },
  {
   "metadata": {},
   "cell_type": "code",
   "source": "model.freqItemsets.count()",
   "id": "f8cf6653338ba34a",
   "execution_count": null,
   "outputs": []
  },
  {
   "metadata": {
    "ExecuteTime": {
     "end_time": "2024-04-21T21:33:04.431058Z",
     "start_time": "2024-04-21T21:28:13.585685Z"
    }
   },
   "cell_type": "code",
   "source": "model.associationRules.show(20, False)",
   "id": "f13b1477f4e8110f",
   "execution_count": 37,
   "outputs": []
  },
  {
   "metadata": {
    "ExecuteTime": {
     "end_time": "2024-04-21T21:33:04.447452Z",
     "start_time": "2024-04-21T21:33:04.433303Z"
    }
   },
   "cell_type": "code",
   "source": "model.associationRules.count()",
   "id": "4ca4612902129a6a",
   "execution_count": null,
   "outputs": []
  },
  {
   "metadata": {
    "ExecuteTime": {
     "end_time": "2024-04-21T22:00:49.038778Z",
     "start_time": "2024-04-21T21:38:10.901968Z"
    }
   },
   "cell_type": "code",
   "source": "cache_df(model.associationRules)",
   "id": "4455f8b7d8cc70f3",
   "execution_count": 8,
   "outputs": []
  },
  {
   "metadata": {},
   "cell_type": "code",
   "source": "cache_df(model.freqItemsets)",
   "id": "1984320eac120a05",
   "execution_count": null,
   "outputs": []
  },
  {
   "metadata": {
    "ExecuteTime": {
     "end_time": "2024-04-19T14:39:19.963170Z",
     "start_time": "2024-04-19T14:39:19.765250Z"
    }
   },
   "cell_type": "code",
   "source": "model.associationRules.orderBy(\"lift\").show(211, False)",
   "id": "7c4c7ca2a189f568",
   "execution_count": 18,
   "outputs": []
  },
  {
   "metadata": {
    "ExecuteTime": {
     "end_time": "2024-04-21T21:20:17.666018Z",
     "start_time": "2024-04-21T21:20:17.622524Z"
    }
   },
   "cell_type": "code",
   "source": "spark.conf.get(\"spark.serializer\")",
   "id": "d78f6ca045d125f5",
   "execution_count": 28,
   "outputs": []
  },
  {
   "metadata": {},
   "cell_type": "code",
   "execution_count": null,
   "source": "",
   "id": "f68da7f01abd8f62",
   "outputs": []
  }
 ],
 "metadata": {
  "kernelspec": {
   "display_name": "Python 3",
   "language": "python",
   "name": "python3"
  },
  "language_info": {
   "codemirror_mode": {
    "name": "ipython",
    "version": 2
   },
   "file_extension": ".py",
   "mimetype": "text/x-python",
   "name": "python",
   "nbconvert_exporter": "python",
   "pygments_lexer": "ipython2",
   "version": "2.7.6"
  }
 },
 "nbformat": 4,
 "nbformat_minor": 5
}
